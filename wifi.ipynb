{
 "cells": [
  {
   "cell_type": "code",
   "execution_count": 1,
   "id": "1e190515",
   "metadata": {},
   "outputs": [],
   "source": [
    "import subprocess"
   ]
  },
  {
   "cell_type": "code",
   "execution_count": 2,
   "id": "f4c67dc6",
   "metadata": {},
   "outputs": [],
   "source": [
    "airport_path = '/System/Library/PrivateFrameworks/Apple80211.framework/Versions/Current/Resources/airport'"
   ]
  },
  {
   "cell_type": "code",
   "execution_count": 3,
   "id": "26e2770e",
   "metadata": {},
   "outputs": [],
   "source": [
    "result = subprocess.run([airport_path, '-s'], capture_output=True, text=True)"
   ]
  },
  {
   "cell_type": "code",
   "execution_count": 4,
   "id": "fc5d4b86",
   "metadata": {},
   "outputs": [
    {
     "name": "stdout",
     "output_type": "stream",
     "text": [
      "                            SSID BSSID             RSSI CHANNEL HT CC SECURITY (auth/unicast/group)\n",
      "                      UDAYAKUMAR                   -63  11,-1   Y  -- WPA(PSK/TKIP,AES/TKIP) RSN(PSK/TKIP,AES/TKIP) \n",
      "                    NOTHING 🚫                   -21  1       Y  -- RSN(PSK/AES/AES) \n",
      "                             wow                   -19  1       Y  -- RSN(PSK/AES/AES) \n",
      "                           wow_5                   -36  36      Y  -- RSN(PSK/AES/AES) \n",
      "\n"
     ]
    }
   ],
   "source": [
    "print(result.stdout)"
   ]
  },
  {
   "cell_type": "code",
   "execution_count": 7,
   "id": "2b85feff",
   "metadata": {},
   "outputs": [],
   "source": [
    "wifi_name = 'NOTHING 🚫'\n",
    "wifi_password = 'nothing!'\n",
    "interface = 'en0'  # Change this to your Wi-Fi interface"
   ]
  },
  {
   "cell_type": "code",
   "execution_count": 8,
   "id": "e6af52fc",
   "metadata": {},
   "outputs": [
    {
     "data": {
      "text/plain": [
       "CompletedProcess(args=['networksetup', '-setairportnetwork', 'en0', 'NOTHING 🚫', 'nothing!'], returncode=0)"
      ]
     },
     "execution_count": 8,
     "metadata": {},
     "output_type": "execute_result"
    }
   ],
   "source": [
    "subprocess.run(['networksetup', '-setairportnetwork', interface, wifi_name, wifi_password])"
   ]
  },
  {
   "cell_type": "code",
   "execution_count": null,
   "id": "44b47640",
   "metadata": {},
   "outputs": [],
   "source": []
  }
 ],
 "metadata": {
  "kernelspec": {
   "display_name": "Python 3 (ipykernel)",
   "language": "python",
   "name": "python3"
  },
  "language_info": {
   "codemirror_mode": {
    "name": "ipython",
    "version": 3
   },
   "file_extension": ".py",
   "mimetype": "text/x-python",
   "name": "python",
   "nbconvert_exporter": "python",
   "pygments_lexer": "ipython3",
   "version": "3.11.2"
  }
 },
 "nbformat": 4,
 "nbformat_minor": 5
}
